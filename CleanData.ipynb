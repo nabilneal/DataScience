{
  "cells": [
    {
      "cell_type": "markdown",
      "metadata": {
        "id": "view-in-github",
        "colab_type": "text"
      },
      "source": [
        "<a href=\"https://colab.research.google.com/github/nabilneal/DataScience/blob/main/Clean.ipynb\" target=\"_parent\"><img src=\"https://colab.research.google.com/assets/colab-badge.svg\" alt=\"Open In Colab\"/></a>"
      ]
    },
    {
      "cell_type": "code",
      "execution_count": null,
      "id": "1f7546c8",
      "metadata": {
        "id": "1f7546c8"
      },
      "outputs": [],
      "source": [
        "import numpy as np # linear algebra\n",
        "import pandas as pd # data processing, CSV file I/O (e.g. pd.read_csv)"
      ]
    },
    {
      "cell_type": "code",
      "execution_count": null,
      "id": "e66515e6",
      "metadata": {
        "id": "e66515e6",
        "outputId": "f128341b-65f1-443c-b5a5-cd1a314aa4bb"
      },
      "outputs": [
        {
          "name": "stdout",
          "output_type": "stream",
          "text": [
            "There are 3947 rows and 3 columns\n",
            "There are 2647 rows and 4 columns\n"
          ]
        }
      ],
      "source": [
        "nRowsRead = None # specify 'None' if want to read whole file\n",
        "# labeled_data.csv may have more rows in reality, but we are only loading/previewing the first 1000 rows\n",
        "df0 = pd.read_csv(r\"share/detecting-insults-in-social-commentary/train.csv\", delimiter=',', nrows = nRowsRead)\n",
        "df01 = pd.read_csv(r\"share/detecting-insults-in-social-commentary/test_with_solutions.csv\", delimiter=',', nrows = nRowsRead)\n",
        "df0.dataframeName = 'train.csv'\n",
        "df01.dataframeName = 'test_with_solutions.csv'\n",
        "nRow, nCol = df0.shape\n",
        "nRow1, nCol1 = df01.shape\n",
        "print('There are {} rows and {} columns'.format(nRow, nCol))\n",
        "print('There are {} rows and {} columns'.format(nRow1, nCol1))"
      ]
    },
    {
      "cell_type": "code",
      "execution_count": null,
      "id": "81849d66",
      "metadata": {
        "id": "81849d66",
        "outputId": "7b43ec74-b35b-42a3-fe90-c571af4c0923"
      },
      "outputs": [
        {
          "data": {
            "text/html": [
              "<div>\n",
              "<style scoped>\n",
              "    .dataframe tbody tr th:only-of-type {\n",
              "        vertical-align: middle;\n",
              "    }\n",
              "\n",
              "    .dataframe tbody tr th {\n",
              "        vertical-align: top;\n",
              "    }\n",
              "\n",
              "    .dataframe thead th {\n",
              "        text-align: right;\n",
              "    }\n",
              "</style>\n",
              "<table border=\"1\" class=\"dataframe\">\n",
              "  <thead>\n",
              "    <tr style=\"text-align: right;\">\n",
              "      <th></th>\n",
              "      <th>text</th>\n",
              "      <th>category</th>\n",
              "      <th>label</th>\n",
              "    </tr>\n",
              "  </thead>\n",
              "  <tbody>\n",
              "    <tr>\n",
              "      <th>0</th>\n",
              "      <td>\"You fuck your dad.\"</td>\n",
              "      <td>offensive_language</td>\n",
              "      <td>0</td>\n",
              "    </tr>\n",
              "    <tr>\n",
              "      <th>1</th>\n",
              "      <td>\"i really don't understand your point.\\xa0 It ...</td>\n",
              "      <td>non_offensive_language</td>\n",
              "      <td>1</td>\n",
              "    </tr>\n",
              "    <tr>\n",
              "      <th>2</th>\n",
              "      <td>\"A\\\\xc2\\\\xa0majority of Canadians can and has ...</td>\n",
              "      <td>non_offensive_language</td>\n",
              "      <td>1</td>\n",
              "    </tr>\n",
              "    <tr>\n",
              "      <th>3</th>\n",
              "      <td>\"listen if you dont wanna get married to a man...</td>\n",
              "      <td>non_offensive_language</td>\n",
              "      <td>1</td>\n",
              "    </tr>\n",
              "    <tr>\n",
              "      <th>4</th>\n",
              "      <td>\"C\\xe1c b\\u1ea1n xu\\u1ed1ng \\u0111\\u01b0\\u1edd...</td>\n",
              "      <td>non_offensive_language</td>\n",
              "      <td>1</td>\n",
              "    </tr>\n",
              "    <tr>\n",
              "      <th>...</th>\n",
              "      <td>...</td>\n",
              "      <td>...</td>\n",
              "      <td>...</td>\n",
              "    </tr>\n",
              "    <tr>\n",
              "      <th>3942</th>\n",
              "      <td>\"you are both morons and that is never happening\"</td>\n",
              "      <td>offensive_language</td>\n",
              "      <td>0</td>\n",
              "    </tr>\n",
              "    <tr>\n",
              "      <th>3943</th>\n",
              "      <td>\"Many toolbars include spell check, like Yahoo...</td>\n",
              "      <td>non_offensive_language</td>\n",
              "      <td>1</td>\n",
              "    </tr>\n",
              "    <tr>\n",
              "      <th>3944</th>\n",
              "      <td>\"@LambeauOrWrigley\\xa0\\xa0@K.Moss\\xa0\\nSioux F...</td>\n",
              "      <td>non_offensive_language</td>\n",
              "      <td>1</td>\n",
              "    </tr>\n",
              "    <tr>\n",
              "      <th>3945</th>\n",
              "      <td>\"How about Felix? He is sure turning into one ...</td>\n",
              "      <td>non_offensive_language</td>\n",
              "      <td>1</td>\n",
              "    </tr>\n",
              "    <tr>\n",
              "      <th>3946</th>\n",
              "      <td>\"You're all upset, defending this hipster band...</td>\n",
              "      <td>non_offensive_language</td>\n",
              "      <td>1</td>\n",
              "    </tr>\n",
              "  </tbody>\n",
              "</table>\n",
              "<p>3947 rows × 3 columns</p>\n",
              "</div>"
            ],
            "text/plain": [
              "                                                   text  \\\n",
              "0                                  \"You fuck your dad.\"   \n",
              "1     \"i really don't understand your point.\\xa0 It ...   \n",
              "2     \"A\\\\xc2\\\\xa0majority of Canadians can and has ...   \n",
              "3     \"listen if you dont wanna get married to a man...   \n",
              "4     \"C\\xe1c b\\u1ea1n xu\\u1ed1ng \\u0111\\u01b0\\u1edd...   \n",
              "...                                                 ...   \n",
              "3942  \"you are both morons and that is never happening\"   \n",
              "3943  \"Many toolbars include spell check, like Yahoo...   \n",
              "3944  \"@LambeauOrWrigley\\xa0\\xa0@K.Moss\\xa0\\nSioux F...   \n",
              "3945  \"How about Felix? He is sure turning into one ...   \n",
              "3946  \"You're all upset, defending this hipster band...   \n",
              "\n",
              "                    category  label  \n",
              "0         offensive_language      0  \n",
              "1     non_offensive_language      1  \n",
              "2     non_offensive_language      1  \n",
              "3     non_offensive_language      1  \n",
              "4     non_offensive_language      1  \n",
              "...                      ...    ...  \n",
              "3942      offensive_language      0  \n",
              "3943  non_offensive_language      1  \n",
              "3944  non_offensive_language      1  \n",
              "3945  non_offensive_language      1  \n",
              "3946  non_offensive_language      1  \n",
              "\n",
              "[3947 rows x 3 columns]"
            ]
          },
          "execution_count": 3,
          "metadata": {},
          "output_type": "execute_result"
        }
      ],
      "source": [
        "df0['Insult']=df0['Insult'].map({1:2,0:3})\n",
        "df0['Insult']=df0['Insult'].map({2:0,3:1})\n",
        "c= df0['Insult']\n",
        "df0.rename(columns={'Comment' : 'text',\n",
        "                   'Insult' : 'category'},\n",
        "                    inplace=True)\n",
        "\n",
        "a=df0['text']\n",
        "\n",
        "b=df0['category'].map({0: 'offensive_language',1 : 'non_offensive_language'})\n",
        "\n",
        "df1= pd.concat([a,b,c], axis=1)\n",
        "df1.rename(columns={'Insult' : 'label'},\n",
        "                    inplace=True)\n",
        "df1"
      ]
    },
    {
      "cell_type": "code",
      "execution_count": null,
      "id": "41a8dbab",
      "metadata": {
        "id": "41a8dbab",
        "outputId": "9dfd0e75-5654-422c-ec33-1fc6846ab8f3"
      },
      "outputs": [
        {
          "name": "stderr",
          "output_type": "stream",
          "text": [
            "C:\\Users\\nabil\\AppData\\Local\\Temp\\ipykernel_33864\\1770123949.py:4: FutureWarning: The default value of regex will change from True to False in a future version.\n",
            "  dataframe['text'] = dataframe['text'].str.replace(r'\\\\n', '')\n",
            "C:\\Users\\nabil\\AppData\\Local\\Temp\\ipykernel_33864\\1770123949.py:5: FutureWarning: The default value of regex will change from True to False in a future version.\n",
            "  dataframe['text'] = dataframe['text'].str.replace(r'\\\\x', '')\n",
            "C:\\Users\\nabil\\AppData\\Local\\Temp\\ipykernel_33864\\1770123949.py:6: FutureWarning: The default value of regex will change from True to False in a future version.\n",
            "  dataframe['text'] = dataframe['text'].str.replace(r'\\\\u', '')\n",
            "C:\\Users\\nabil\\AppData\\Local\\Temp\\ipykernel_33864\\1770123949.py:9: FutureWarning: The default value of regex will change from True to False in a future version.\n",
            "  dataframe['text'] = dataframe['text'].str.replace('http[s]?://(?:[a-zA-Z]|[0-9]|[$-_@.&+]|[!*\\(\\),]|(?:%[0-9a-fA-F][0-9a-fA-F]))+', ' ')\n",
            "C:\\Users\\nabil\\AppData\\Local\\Temp\\ipykernel_33864\\1770123949.py:10: FutureWarning: The default value of regex will change from True to False in a future version.\n",
            "  dataframe['text'] = dataframe['text'].str.replace('@(?:[a-zA-Z]|[0-9]|[$-_@.&+]|[!*\\(\\),]|(?:%[0-9a-fA-F][0-9a-fA-F]))+', ' ')\n",
            "C:\\Users\\nabil\\AppData\\Local\\Temp\\ipykernel_33864\\1770123949.py:11: FutureWarning: The default value of regex will change from True to False in a future version.\n",
            "  dataframe['text'] = dataframe['text'].str.replace('[^\\w\\s#@/:%.,_-]', ' ')\n",
            "C:\\Users\\nabil\\AppData\\Local\\Temp\\ipykernel_33864\\1770123949.py:16: FutureWarning: The default value of regex will change from True to False in a future version.\n",
            "  dataframe['text'] = dataframe['text'].str.replace('http|https', ' ')\n",
            "C:\\Users\\nabil\\AppData\\Local\\Temp\\ipykernel_33864\\1770123949.py:21: FutureWarning: The default value of regex will change from True to False in a future version.\n",
            "  dataframe['text'] = dataframe['text'].str.replace('I d |i d ', 'I\\'d ')\n",
            "C:\\Users\\nabil\\AppData\\Local\\Temp\\ipykernel_33864\\1770123949.py:23: FutureWarning: The default value of regex will change from True to False in a future version.\n",
            "  dataframe['text'] = dataframe['text'].str.replace('No  |no  ', 'No, ')\n"
          ]
        }
      ],
      "source": [
        "def clean_data(dataframe):\n",
        "#replace URL of a text\n",
        "    dataframe['text'] = dataframe['text'].str.replace('RT', ' ')\n",
        "    dataframe['text'] = dataframe['text'].str.replace(r'\\\\n', '')\n",
        "    dataframe['text'] = dataframe['text'].str.replace(r'\\\\x', '')\n",
        "    dataframe['text'] = dataframe['text'].str.replace(r'\\\\u', '')\n",
        "    dataframe['text'] = dataframe['text'].str.replace('a0', '')\n",
        "    dataframe['text'] = dataframe['text'].str.replace('c2', '')\n",
        "    dataframe['text'] = dataframe['text'].str.replace('http[s]?://(?:[a-zA-Z]|[0-9]|[$-_@.&+]|[!*\\(\\),]|(?:%[0-9a-fA-F][0-9a-fA-F]))+', ' ')\n",
        "    dataframe['text'] = dataframe['text'].str.replace('@(?:[a-zA-Z]|[0-9]|[$-_@.&+]|[!*\\(\\),]|(?:%[0-9a-fA-F][0-9a-fA-F]))+', ' ')\n",
        "    dataframe['text'] = dataframe['text'].str.replace('[^\\w\\s#@/:%.,_-]', ' ')\n",
        "    dataframe['text'] = dataframe['text'].str.replace(' s ', 's ')\n",
        "    dataframe['text'] = dataframe['text'].str.replace(' t ', 't ')\n",
        "    dataframe['text'] = dataframe['text'].str.replace(' T ', 'T ')\n",
        "    dataframe['text'] = dataframe['text'].str.replace(' re ', ' are ')\n",
        "    dataframe['text'] = dataframe['text'].str.replace('http|https', ' ')\n",
        "    dataframe['text'] = dataframe['text'].str.replace('didn t ', 'didn\\'t ')\n",
        "    dataframe['text'] = dataframe['text'].str.replace('can t ', 'can\\'t ')\n",
        "    dataframe['text'] = dataframe['text'].str.replace('won t ', 'won\\'t ')\n",
        "    dataframe['text'] = dataframe['text'].str.replace('who s ', 'who\\'s ')\n",
        "    dataframe['text'] = dataframe['text'].str.replace('I d |i d ', 'I\\'d ')\n",
        "    dataframe['text'] = dataframe['text'].str.replace('you re ', 'you\\'re ')\n",
        "    dataframe['text'] = dataframe['text'].str.replace('No  |no  ', 'No, ')\n",
        "    dataframe['text'] = dataframe['text'].str.replace('it s ', 'it\\'s ')\n",
        "    dataframe['text'] = dataframe['text'].str.strip()\n",
        "    dataframe['text'] = dataframe['text'].str.replace('  ', ', ')\n",
        "\n",
        "\n",
        "clean_data(df1)\n",
        "df1 = df1[df1.text != '']"
      ]
    },
    {
      "cell_type": "code",
      "execution_count": null,
      "id": "a7f5f759",
      "metadata": {
        "id": "a7f5f759",
        "outputId": "2bc59699-c805-4bda-fc3a-aa846b8a89a8"
      },
      "outputs": [
        {
          "data": {
            "text/plain": [
              "array([0, 1, 1, ..., 1, 1, 1], dtype=int64)"
            ]
          },
          "execution_count": 5,
          "metadata": {},
          "output_type": "execute_result"
        }
      ],
      "source": [
        "# Grouping data by label\n",
        "df1.groupby('label').count()\n",
        "text = df1.text.values\n",
        "labels = df1.label.values\n",
        "labels"
      ]
    },
    {
      "cell_type": "code",
      "execution_count": null,
      "id": "0b87ece1",
      "metadata": {
        "id": "0b87ece1",
        "outputId": "e417afb7-99be-4b3f-f452-05425acd4724"
      },
      "outputs": [
        {
          "data": {
            "text/plain": [
              "0                                      You fuck your dad.\n",
              "1       i really dont understand your point. It seems ...\n",
              "2       A, majority of Canadians can and has been wron...\n",
              "3       listen if you dont wanna get married to a man ...\n",
              "4       Ce1c b1ea1n xu1ed1ng 011101b01eddng bi1ec3u te...\n",
              "                              ...                        \n",
              "3942      you are both morons and that is never happening\n",
              "3943    Many toolbars include spell check, like Yahoo ...\n",
              "3944    Falls, S.D. I told my boy he should call aroun...\n",
              "3945    How about Felix, He is sure turning into one h...\n",
              "3946    You are all upset, defending this hipster band...\n",
              "Name: text, Length: 3938, dtype: object"
            ]
          },
          "execution_count": 6,
          "metadata": {},
          "output_type": "execute_result"
        }
      ],
      "source": [
        "df1['text']"
      ]
    },
    {
      "cell_type": "code",
      "execution_count": null,
      "id": "2bc89d57",
      "metadata": {
        "id": "2bc89d57"
      },
      "outputs": [],
      "source": [
        "path1 = r\"Cleaned_Data/tweet1.csv\"\n",
        "df1.to_csv(path1)"
      ]
    },
    {
      "cell_type": "code",
      "execution_count": null,
      "id": "023ce6ee",
      "metadata": {
        "id": "023ce6ee"
      },
      "outputs": [],
      "source": []
    },
    {
      "cell_type": "markdown",
      "id": "44ee8b62",
      "metadata": {
        "id": "44ee8b62"
      },
      "source": [
        "DATA2"
      ]
    },
    {
      "cell_type": "code",
      "execution_count": null,
      "id": "5a0fba52",
      "metadata": {
        "id": "5a0fba52",
        "outputId": "de6f1698-36a9-45b0-e102-e0f2cdc7edba"
      },
      "outputs": [
        {
          "name": "stdout",
          "output_type": "stream",
          "text": [
            "There are 24783 rows and 7 columns\n"
          ]
        }
      ],
      "source": [
        "nRowsRead = None # specify 'None' if want to read whole file\n",
        "# labeled_data.csv may have more rows in reality, but we are only loading/previewing the first 1000 rows\n",
        "df0 = pd.read_csv(r\"share/hate-speech-and-offensive-language-master/data/labeled_data.csv\", delimiter=',', nrows = nRowsRead)\n",
        "df0.dataframeName = 'labeled_data.csv'\n",
        "nRow, nCol = df0.shape\n",
        "print('There are {} rows and {} columns'.format(nRow, nCol))"
      ]
    },
    {
      "cell_type": "code",
      "execution_count": null,
      "id": "b9cf484e",
      "metadata": {
        "id": "b9cf484e",
        "outputId": "757f5a04-4cca-46a0-f389-c7932f3da0b1"
      },
      "outputs": [
        {
          "data": {
            "text/html": [
              "<div>\n",
              "<style scoped>\n",
              "    .dataframe tbody tr th:only-of-type {\n",
              "        vertical-align: middle;\n",
              "    }\n",
              "\n",
              "    .dataframe tbody tr th {\n",
              "        vertical-align: top;\n",
              "    }\n",
              "\n",
              "    .dataframe thead th {\n",
              "        text-align: right;\n",
              "    }\n",
              "</style>\n",
              "<table border=\"1\" class=\"dataframe\">\n",
              "  <thead>\n",
              "    <tr style=\"text-align: right;\">\n",
              "      <th></th>\n",
              "      <th>text</th>\n",
              "      <th>category</th>\n",
              "      <th>label</th>\n",
              "    </tr>\n",
              "  </thead>\n",
              "  <tbody>\n",
              "    <tr>\n",
              "      <th>0</th>\n",
              "      <td>!!! RT @mayasolovely: As a woman you shouldn't...</td>\n",
              "      <td>neither</td>\n",
              "      <td>1</td>\n",
              "    </tr>\n",
              "    <tr>\n",
              "      <th>1</th>\n",
              "      <td>!!!!! RT @mleew17: boy dats cold...tyga dwn ba...</td>\n",
              "      <td>offensive_language</td>\n",
              "      <td>0</td>\n",
              "    </tr>\n",
              "    <tr>\n",
              "      <th>2</th>\n",
              "      <td>!!!!!!! RT @UrKindOfBrand Dawg!!!! RT @80sbaby...</td>\n",
              "      <td>offensive_language</td>\n",
              "      <td>0</td>\n",
              "    </tr>\n",
              "    <tr>\n",
              "      <th>3</th>\n",
              "      <td>!!!!!!!!! RT @C_G_Anderson: @viva_based she lo...</td>\n",
              "      <td>offensive_language</td>\n",
              "      <td>0</td>\n",
              "    </tr>\n",
              "    <tr>\n",
              "      <th>4</th>\n",
              "      <td>!!!!!!!!!!!!! RT @ShenikaRoberts: The shit you...</td>\n",
              "      <td>offensive_language</td>\n",
              "      <td>0</td>\n",
              "    </tr>\n",
              "    <tr>\n",
              "      <th>...</th>\n",
              "      <td>...</td>\n",
              "      <td>...</td>\n",
              "      <td>...</td>\n",
              "    </tr>\n",
              "    <tr>\n",
              "      <th>24778</th>\n",
              "      <td>you's a muthaf***in lie &amp;#8220;@LifeAsKing: @2...</td>\n",
              "      <td>offensive_language</td>\n",
              "      <td>0</td>\n",
              "    </tr>\n",
              "    <tr>\n",
              "      <th>24779</th>\n",
              "      <td>you've gone and broke the wrong heart baby, an...</td>\n",
              "      <td>neither</td>\n",
              "      <td>1</td>\n",
              "    </tr>\n",
              "    <tr>\n",
              "      <th>24780</th>\n",
              "      <td>young buck wanna eat!!.. dat nigguh like I ain...</td>\n",
              "      <td>offensive_language</td>\n",
              "      <td>0</td>\n",
              "    </tr>\n",
              "    <tr>\n",
              "      <th>24781</th>\n",
              "      <td>youu got wild bitches tellin you lies</td>\n",
              "      <td>offensive_language</td>\n",
              "      <td>0</td>\n",
              "    </tr>\n",
              "    <tr>\n",
              "      <th>24782</th>\n",
              "      <td>~~Ruffled | Ntac Eileen Dahlia - Beautiful col...</td>\n",
              "      <td>neither</td>\n",
              "      <td>1</td>\n",
              "    </tr>\n",
              "  </tbody>\n",
              "</table>\n",
              "<p>24783 rows × 3 columns</p>\n",
              "</div>"
            ],
            "text/plain": [
              "                                                    text            category  \\\n",
              "0      !!! RT @mayasolovely: As a woman you shouldn't...             neither   \n",
              "1      !!!!! RT @mleew17: boy dats cold...tyga dwn ba...  offensive_language   \n",
              "2      !!!!!!! RT @UrKindOfBrand Dawg!!!! RT @80sbaby...  offensive_language   \n",
              "3      !!!!!!!!! RT @C_G_Anderson: @viva_based she lo...  offensive_language   \n",
              "4      !!!!!!!!!!!!! RT @ShenikaRoberts: The shit you...  offensive_language   \n",
              "...                                                  ...                 ...   \n",
              "24778  you's a muthaf***in lie &#8220;@LifeAsKing: @2...  offensive_language   \n",
              "24779  you've gone and broke the wrong heart baby, an...             neither   \n",
              "24780  young buck wanna eat!!.. dat nigguh like I ain...  offensive_language   \n",
              "24781              youu got wild bitches tellin you lies  offensive_language   \n",
              "24782  ~~Ruffled | Ntac Eileen Dahlia - Beautiful col...             neither   \n",
              "\n",
              "       label  \n",
              "0          1  \n",
              "1          0  \n",
              "2          0  \n",
              "3          0  \n",
              "4          0  \n",
              "...      ...  \n",
              "24778      0  \n",
              "24779      1  \n",
              "24780      0  \n",
              "24781      0  \n",
              "24782      1  \n",
              "\n",
              "[24783 rows x 3 columns]"
            ]
          },
          "execution_count": 9,
          "metadata": {},
          "output_type": "execute_result"
        }
      ],
      "source": [
        "\n",
        "c=df0['class']\n",
        "df0.rename(columns={'tweet' : 'text',\n",
        "                   'class' : 'category'},\n",
        "                    inplace=True)\n",
        "a=df0['text']\n",
        "b=df0['category'].map({0: 'hate_speech', 1: 'offensive_language',2: 'neither'})\n",
        "\n",
        "df2= pd.concat([a,b,c], axis=1)\n",
        "df2.rename(columns={'class' : 'label'},\n",
        "                    inplace=True)\n",
        "df2['label']=df2['label'].map({0: '0', 1: '0',2: '1'})\n",
        "df2['label']=df2['label'].map({'0': 0, '1': 1})\n",
        "df2"
      ]
    },
    {
      "cell_type": "code",
      "execution_count": null,
      "id": "70dfa4fc",
      "metadata": {
        "id": "70dfa4fc",
        "outputId": "341cd3b6-04ae-438e-a539-54be9f822da0"
      },
      "outputs": [
        {
          "name": "stderr",
          "output_type": "stream",
          "text": [
            "C:\\Users\\nabil\\AppData\\Local\\Temp\\ipykernel_33864\\303529367.py:3: FutureWarning: The default value of regex will change from True to False in a future version.\n",
            "  dataframe['text'] = dataframe['text'].str.replace('http[s]?://(?:[a-zA-Z]|[0-9]|[$-_@.&+]|[!*\\(\\),]|(?:%[0-9a-fA-F][0-9a-fA-F]))+', ' ')\n",
            "C:\\Users\\nabil\\AppData\\Local\\Temp\\ipykernel_33864\\303529367.py:5: FutureWarning: The default value of regex will change from True to False in a future version.\n",
            "  dataframe['text'] = dataframe['text'].str.replace('@(?:[a-zA-Z]|[0-9]|[$-_@.&+]|[!*\\(\\),]|(?:%[0-9a-fA-F][0-9a-fA-F]))+', ' ')\n",
            "C:\\Users\\nabil\\AppData\\Local\\Temp\\ipykernel_33864\\303529367.py:6: FutureWarning: The default value of regex will change from True to False in a future version.\n",
            "  dataframe['text'] = dataframe['text'].str.replace('[^\\w\\s#@/:%.,_-]', ' ')\n",
            "C:\\Users\\nabil\\AppData\\Local\\Temp\\ipykernel_33864\\303529367.py:9: FutureWarning: The default value of regex will change from True to False in a future version.\n",
            "  dataframe['text'] = dataframe['text'].str.replace('#\\d+', '')\n",
            "C:\\Users\\nabil\\AppData\\Local\\Temp\\ipykernel_33864\\303529367.py:10: FutureWarning: The default value of regex will change from True to False in a future version.\n",
            "  dataframe['text'] = dataframe['text'].str.replace('#\\d+,', '')\n",
            "C:\\Users\\nabil\\AppData\\Local\\Temp\\ipykernel_33864\\303529367.py:18: FutureWarning: The default value of regex will change from True to False in a future version.\n",
            "  dataframe['text'] = dataframe['text'].str.replace('http|https', ' ')\n",
            "C:\\Users\\nabil\\AppData\\Local\\Temp\\ipykernel_33864\\303529367.py:23: FutureWarning: The default value of regex will change from True to False in a future version.\n",
            "  dataframe['text'] = dataframe['text'].str.replace('I d |i d ', 'I\\'d ')\n",
            "C:\\Users\\nabil\\AppData\\Local\\Temp\\ipykernel_33864\\303529367.py:25: FutureWarning: The default value of regex will change from True to False in a future version.\n",
            "  dataframe['text'] = dataframe['text'].str.replace('No  |no  ', 'No, ')\n",
            "C:\\Users\\nabil\\AppData\\Local\\Temp\\ipykernel_33864\\303529367.py:35: FutureWarning: The default value of regex will change from True to False in a future version.\n",
            "  dataframe['text'] = dataframe['text'].str.replace(',,,,|,,', '')\n"
          ]
        }
      ],
      "source": [
        "def clean_data(dataframe):\n",
        "#replace URL of a text\n",
        "    dataframe['text'] = dataframe['text'].str.replace('http[s]?://(?:[a-zA-Z]|[0-9]|[$-_@.&+]|[!*\\(\\),]|(?:%[0-9a-fA-F][0-9a-fA-F]))+', ' ')\n",
        "    dataframe['text'] = dataframe['text'].str.replace('RT', ' ')\n",
        "    dataframe['text'] = dataframe['text'].str.replace('@(?:[a-zA-Z]|[0-9]|[$-_@.&+]|[!*\\(\\),]|(?:%[0-9a-fA-F][0-9a-fA-F]))+', ' ')\n",
        "    dataframe['text'] = dataframe['text'].str.replace('[^\\w\\s#@/:%.,_-]', ' ')\n",
        "#     dataframe['text'] = dataframe['text'].str.replace('[^\\w\\s#@/:%.,_-]', ' ')\n",
        "#     dataframe['text'] = dataframe['text'] + '.'\n",
        "    dataframe['text'] = dataframe['text'].str.replace('#\\d+', '')\n",
        "    dataframe['text'] = dataframe['text'].str.replace('#\\d+,', '')\n",
        "    dataframe['text'] = dataframe['text'].str.replace(' s ', '\\'s ')\n",
        "    dataframe['text'] = dataframe['text'].str.replace(' t ', '\\'t ')\n",
        "    dataframe['text'] = dataframe['text'].str.replace(' T ', '\\'T ')\n",
        "#     dataframe['text'] = dataframe['text'].str.replace(' s.', 's.')\n",
        "#     dataframe['text'] = dataframe['text'].str.replace(' t.', 't.')\n",
        "#     dataframe['text'] = dataframe['text'].str.replace(' T.', 'T.')\n",
        "    dataframe['text'] = dataframe['text'].str.replace(' re ', ' are ')\n",
        "    dataframe['text'] = dataframe['text'].str.replace('http|https', ' ')\n",
        "    dataframe['text'] = dataframe['text'].str.replace('didn t ', 'didn\\'t ')\n",
        "    dataframe['text'] = dataframe['text'].str.replace('can t ', 'can\\'t ')\n",
        "    dataframe['text'] = dataframe['text'].str.replace('won t ', 'won\\'t ')\n",
        "    dataframe['text'] = dataframe['text'].str.replace('who s ', 'who\\'s ')\n",
        "    dataframe['text'] = dataframe['text'].str.replace('I d |i d ', 'I\\'d ')\n",
        "    dataframe['text'] = dataframe['text'].str.replace('you re ', 'you\\'re ')\n",
        "    dataframe['text'] = dataframe['text'].str.replace('No  |no  ', 'No, ')\n",
        "    dataframe['text'] = dataframe['text'].str.replace('-,', '')\n",
        "#     dataframe['text'] = dataframe['text'].str.replace(',.', '.')\n",
        "#     dataframe['text'] = dataframe['text'].str.replace('.,', '.')\n",
        "#     dataframe['text'] = dataframe['text'].str.replace('..', '.')\n",
        "    dataframe['text'] = dataframe['text'].str.replace('it s ', 'it\\'s ')\n",
        "    dataframe['text'] = dataframe['text'].str.strip()\n",
        "#     dataframe['text'] = dataframe['text'].apply(lambda x: x[-1].replace('#\\d+', '') if x[-1:] =='#\\d+' else x)\n",
        "    dataframe['text'] = dataframe['text'].str.replace('  ', ', ')\n",
        "    dataframe['text'] = dataframe['text'].str.replace(', , , ,  ', ', ')\n",
        "    dataframe['text'] = dataframe['text'].str.replace(',,,,|,,', '')\n",
        "    dataframe['text'] = dataframe['text'].str.replace(', , , ', ', ')\n",
        "#     dataframe['text'] = dataframe['text'].str.replace(', ,', ',')\n",
        "#     dataframe['text'] = dataframe['text'].str.replace('.,', '.')\n",
        "#     dataframe['text'] = dataframe['text'].str.replace(',.', '.')\n",
        "#     dataframe['text'] = dataframe['text'].str.replace('\\b(?:\\d+|\\w)\\b\\s*', '')\n",
        "\n",
        "\n",
        "clean_data(df2)\n",
        "df2 = df2[df2.text != '']"
      ]
    },
    {
      "cell_type": "code",
      "execution_count": null,
      "id": "171eb2d3",
      "metadata": {
        "id": "171eb2d3",
        "outputId": "22558ddb-6b0b-47c9-a148-5c44ceed1cf0"
      },
      "outputs": [
        {
          "data": {
            "text/plain": [
              "0        As a woman you shouldn't complain about cleani...\n",
              "1        boy dats cold...tyga dwn bad for cuffin dat ho...\n",
              "2        Dawg, You ever fuck a bitch and she start to c...\n",
              "3                                   she look like a tranny\n",
              "4        The shit you hear about me might be true or it...\n",
              "                               ...                        \n",
              "24778    you's a muthaf,  in lie, right, His TL is tras...\n",
              "24779    you ve gone and broke the wrong heart baby, an...\n",
              "24780    young buck wanna eat, .. dat nigguh like I ain...\n",
              "24781                youu got wild bitches tellin you lies\n",
              "24782    Ruffled,  Ntac Eileen Dahlia - Beautiful color...\n",
              "Name: text, Length: 24782, dtype: object"
            ]
          },
          "execution_count": 11,
          "metadata": {},
          "output_type": "execute_result"
        }
      ],
      "source": [
        "df2['text']"
      ]
    },
    {
      "cell_type": "code",
      "execution_count": null,
      "id": "35f68c99",
      "metadata": {
        "id": "35f68c99"
      },
      "outputs": [],
      "source": [
        "path2 = r\"Cleaned_Data/tweet2.csv\"\n",
        "df2.to_csv(path2)"
      ]
    },
    {
      "cell_type": "markdown",
      "id": "573f0322",
      "metadata": {
        "id": "573f0322"
      },
      "source": [
        "DATA"
      ]
    },
    {
      "cell_type": "code",
      "execution_count": null,
      "id": "688d5ec4",
      "metadata": {
        "id": "688d5ec4"
      },
      "outputs": [],
      "source": [
        "file1 = r\"share/racism.json\"\n",
        "file2 = r\"share/sexism.json\"\n",
        "file3 = r\"share/neither.json\"\n",
        "\n",
        "# df1 = pd.read_json(file1, lines=True)\n",
        "# df2 = pd.read_json(file2, lines=True)\n",
        "# df3 = pd.read_json(file3, lines=True)\n",
        "\n",
        "# df_rows = pd.concat([df1, df2], ignore_index=True)\n",
        "# df = pd.concat([df_rows, df3], ignore_index=True)\n",
        "# df"
      ]
    },
    {
      "cell_type": "code",
      "execution_count": null,
      "id": "709161a3",
      "metadata": {
        "id": "709161a3",
        "outputId": "389929b4-7013-4f65-fdef-e9d5e76c29b4"
      },
      "outputs": [
        {
          "name": "stdout",
          "output_type": "stream",
          "text": [
            "There are 16907 rows and 32 columns\n"
          ]
        }
      ],
      "source": [
        "nRowsRead = None\n",
        "df10 = pd.read_json(file1, lines=True, nrows = nRowsRead)\n",
        "df20 = pd.read_json(file2, lines=True, nrows = nRowsRead)\n",
        "df30 = pd.read_json(file3, lines=True, nrows = nRowsRead)\n",
        "df_rows0 = pd.concat([df10, df20], ignore_index=True)\n",
        "df0 = pd.concat([df_rows0, df30], ignore_index=True)\n",
        "df0.dataframeName = 'tweet.json'\n",
        "nRow, nCol = df0.shape\n",
        "print('There are {} rows and {} columns'.format(nRow, nCol))"
      ]
    },
    {
      "cell_type": "code",
      "execution_count": null,
      "id": "aecc48d8",
      "metadata": {
        "id": "aecc48d8",
        "outputId": "ec588d36-7844-483c-9d58-dd938f0c4689"
      },
      "outputs": [
        {
          "data": {
            "text/html": [
              "<div>\n",
              "<style scoped>\n",
              "    .dataframe tbody tr th:only-of-type {\n",
              "        vertical-align: middle;\n",
              "    }\n",
              "\n",
              "    .dataframe tbody tr th {\n",
              "        vertical-align: top;\n",
              "    }\n",
              "\n",
              "    .dataframe thead th {\n",
              "        text-align: right;\n",
              "    }\n",
              "</style>\n",
              "<table border=\"1\" class=\"dataframe\">\n",
              "  <thead>\n",
              "    <tr style=\"text-align: right;\">\n",
              "      <th></th>\n",
              "      <th>text</th>\n",
              "      <th>label</th>\n",
              "      <th>category</th>\n",
              "    </tr>\n",
              "  </thead>\n",
              "  <tbody>\n",
              "    <tr>\n",
              "      <th>0</th>\n",
              "      <td>So Drasko just said he was impressed the girls...</td>\n",
              "      <td>0</td>\n",
              "      <td>racism</td>\n",
              "    </tr>\n",
              "    <tr>\n",
              "      <th>1</th>\n",
              "      <td>Drasko they didn't cook half a bird you idiot ...</td>\n",
              "      <td>0</td>\n",
              "      <td>racism</td>\n",
              "    </tr>\n",
              "    <tr>\n",
              "      <th>2</th>\n",
              "      <td>Hopefully someone cooks Drasko in the next ep ...</td>\n",
              "      <td>0</td>\n",
              "      <td>racism</td>\n",
              "    </tr>\n",
              "    <tr>\n",
              "      <th>3</th>\n",
              "      <td>of course you were born in serbia...you're as ...</td>\n",
              "      <td>0</td>\n",
              "      <td>racism</td>\n",
              "    </tr>\n",
              "    <tr>\n",
              "      <th>4</th>\n",
              "      <td>These girls are the equivalent of the irritati...</td>\n",
              "      <td>0</td>\n",
              "      <td>racism</td>\n",
              "    </tr>\n",
              "    <tr>\n",
              "      <th>...</th>\n",
              "      <td>...</td>\n",
              "      <td>...</td>\n",
              "      <td>...</td>\n",
              "    </tr>\n",
              "    <tr>\n",
              "      <th>16902</th>\n",
              "      <td>RT @JakeM_1998: RT BillSpindle: It's all about...</td>\n",
              "      <td>1</td>\n",
              "      <td>none</td>\n",
              "    </tr>\n",
              "    <tr>\n",
              "      <th>16903</th>\n",
              "      <td>RT @ThinkAgain_DOS: Iraq: #ISIS sets off 21 ca...</td>\n",
              "      <td>1</td>\n",
              "      <td>none</td>\n",
              "    </tr>\n",
              "    <tr>\n",
              "      <th>16904</th>\n",
              "      <td>RT @ThePatriot143: DEAR STATE DEPARTMENT: WHER...</td>\n",
              "      <td>1</td>\n",
              "      <td>none</td>\n",
              "    </tr>\n",
              "    <tr>\n",
              "      <th>16905</th>\n",
              "      <td>\"@panelrific: Let's go 🐧🐧🐧🐧🐧🐧😃\"</td>\n",
              "      <td>1</td>\n",
              "      <td>none</td>\n",
              "    </tr>\n",
              "    <tr>\n",
              "      <th>16906</th>\n",
              "      <td>RT @TheMeninism: 😂 http://t.co/VQzuAXqNzd</td>\n",
              "      <td>1</td>\n",
              "      <td>none</td>\n",
              "    </tr>\n",
              "  </tbody>\n",
              "</table>\n",
              "<p>16907 rows × 3 columns</p>\n",
              "</div>"
            ],
            "text/plain": [
              "                                                    text  label category\n",
              "0      So Drasko just said he was impressed the girls...      0   racism\n",
              "1      Drasko they didn't cook half a bird you idiot ...      0   racism\n",
              "2      Hopefully someone cooks Drasko in the next ep ...      0   racism\n",
              "3      of course you were born in serbia...you're as ...      0   racism\n",
              "4      These girls are the equivalent of the irritati...      0   racism\n",
              "...                                                  ...    ...      ...\n",
              "16902  RT @JakeM_1998: RT BillSpindle: It's all about...      1     none\n",
              "16903  RT @ThinkAgain_DOS: Iraq: #ISIS sets off 21 ca...      1     none\n",
              "16904  RT @ThePatriot143: DEAR STATE DEPARTMENT: WHER...      1     none\n",
              "16905                    \"@panelrific: Let's go 🐧🐧🐧🐧🐧🐧😃\"      1     none\n",
              "16906          RT @TheMeninism: 😂 http://t.co/VQzuAXqNzd      1     none\n",
              "\n",
              "[16907 rows x 3 columns]"
            ]
          },
          "execution_count": 15,
          "metadata": {},
          "output_type": "execute_result"
        }
      ],
      "source": [
        "#Doing some adjustments\n",
        "\n",
        "c=df0['Annotation']\n",
        "df0.rename(columns={'Annotation' : 'category'},\n",
        "                    inplace=True)\n",
        "a=df0['text']\n",
        "# b = c.map({'racism' : 0,'sexism' : 1,'none' : 2})\n",
        "b = c.map({'racism' : 0,'sexism' : 0,'none' : 1})\n",
        "d = df0['category']\n",
        "df= pd.concat([a,b,d], axis=1)\n",
        "df.rename(columns={'Annotation' : 'label'},\n",
        "                    inplace=True)\n",
        "\n",
        "path = r\"Cleaned_Data/uctweet.csv\"\n",
        "df.to_csv(path)\n",
        "df"
      ]
    },
    {
      "cell_type": "code",
      "execution_count": null,
      "id": "b92c3455",
      "metadata": {
        "scrolled": false,
        "id": "b92c3455",
        "outputId": "41a1dfc0-1510-4cee-dff7-49597ae924c4"
      },
      "outputs": [
        {
          "name": "stderr",
          "output_type": "stream",
          "text": [
            "C:\\Users\\nabil\\AppData\\Local\\Temp\\ipykernel_33864\\3499576881.py:3: FutureWarning: The default value of regex will change from True to False in a future version.\n",
            "  dataframe['text'] = dataframe['text'].str.replace('http[s]?://(?:[a-zA-Z]|http\\S+|[0-9]|[$-_@.&+]|[*\\(\\),]|(:%[0-9a-fA-F][0-9a-fA-F]))+', ' ')\n",
            "C:\\Users\\nabil\\AppData\\Local\\Temp\\ipykernel_33864\\3499576881.py:5: FutureWarning: The default value of regex will change from True to False in a future version.\n",
            "  dataframe['text'] = dataframe['text'].str.replace('.@', '@')\n",
            "C:\\Users\\nabil\\AppData\\Local\\Temp\\ipykernel_33864\\3499576881.py:7: FutureWarning: The default value of regex will change from True to False in a future version.\n",
            "  dataframe['text'] = dataframe['text'].str.replace('@(?:[a-zA-Z]|[0-9]|[$-_@.&+]|[*\\(\\),]|(:%[0-9a-fA-F][0-9a-fA-F]))+', ' ')\n",
            "C:\\Users\\nabil\\AppData\\Local\\Temp\\ipykernel_33864\\3499576881.py:8: FutureWarning: The default value of regex will change from True to False in a future version.\n",
            "  dataframe['text'] = dataframe['text'].str.replace('[^\\w\\s#@/:%.,_-]', ' ')\n",
            "C:\\Users\\nabil\\AppData\\Local\\Temp\\ipykernel_33864\\3499576881.py:9: FutureWarning: The default value of regex will change from True to False in a future version.\n",
            "  dataframe['text'] = dataframe['text'].str.replace('http|https', ' ')\n",
            "C:\\Users\\nabil\\AppData\\Local\\Temp\\ipykernel_33864\\3499576881.py:14: FutureWarning: The default value of regex will change from True to False in a future version.\n",
            "  dataframe['text'] = dataframe['text'].str.replace('I d |i d ', 'I\\'d ')\n",
            "C:\\Users\\nabil\\AppData\\Local\\Temp\\ipykernel_33864\\3499576881.py:21: FutureWarning: The default value of regex will change from True to False in a future version.\n",
            "  dataframe['text'] = dataframe['text'].str.replace('No  |no  ', 'No, ')\n"
          ]
        }
      ],
      "source": [
        "def clean_data(dataframe):\n",
        "#replace URL of a text\n",
        "    dataframe['text'] = dataframe['text'].str.replace('http[s]?://(?:[a-zA-Z]|http\\S+|[0-9]|[$-_@.&+]|[*\\(\\),]|(:%[0-9a-fA-F][0-9a-fA-F]))+', ' ')\n",
        "    dataframe['text'] = dataframe['text'].str.replace('RT', ' ')\n",
        "    dataframe['text'] = dataframe['text'].str.replace('.@', '@')\n",
        "#     dataframe['text'] = dataframe['text'].str.replace('.@(?:[a-zA-Z]|[0-9]|[$-_@.&+]|[*\\(\\),]|(:%[0-9a-fA-F][0-9a-fA-F]))+', ' ')\n",
        "    dataframe['text'] = dataframe['text'].str.replace('@(?:[a-zA-Z]|[0-9]|[$-_@.&+]|[*\\(\\),]|(:%[0-9a-fA-F][0-9a-fA-F]))+', ' ')\n",
        "    dataframe['text'] = dataframe['text'].str.replace('[^\\w\\s#@/:%.,_-]', ' ')\n",
        "    dataframe['text'] = dataframe['text'].str.replace('http|https', ' ')\n",
        "    dataframe['text'] = dataframe['text'].str.replace('didn t ', 'didn\\'t ')\n",
        "    dataframe['text'] = dataframe['text'].str.replace('can t ', 'can\\'t ')\n",
        "    dataframe['text'] = dataframe['text'].str.replace('won t ', 'won\\'t ')\n",
        "    dataframe['text'] = dataframe['text'].str.replace('who s ', 'who\\'s ')\n",
        "    dataframe['text'] = dataframe['text'].str.replace('I d |i d ', 'I\\'d ')\n",
        "    dataframe['text'] = dataframe['text'].str.replace('you re ', 'you\\'re ')\n",
        "    dataframe['text'] = dataframe['text'].str.replace(' s ', '\\'s ')\n",
        "    dataframe['text'] = dataframe['text'].str.replace(' t ', '\\'t ')\n",
        "    dataframe['text'] = dataframe['text'].str.replace(' T ', '\\'T ')\n",
        "    dataframe['text'] = dataframe['text'].str.replace(' re ', '\\'re ')\n",
        "    dataframe['text'] = dataframe['text'].str.replace(' ll ', '\\'ll ')\n",
        "    dataframe['text'] = dataframe['text'].str.replace('No  |no  ', 'No, ')\n",
        "    dataframe['text'] = dataframe['text'].str.replace('it s ', 'it\\'s ')\n",
        "#     dataframe['text'] = dataframe[dataframe['text'].str[:2] =='. ']['text'].str.replace('. ', '')\n",
        "    dataframe['text'] = dataframe['text'].str.strip()\n",
        "    dataframe['text'] = dataframe['text'].str.replace('  ', ', ')\n",
        "#     a = df[df['text'].str[0:2] == '. ']['text']\n",
        "#     dataframe['text'] = a.str.replace('. ', '')\n",
        "\n",
        "\n",
        "clean_data(df)\n",
        "df = df[df.text != '']"
      ]
    },
    {
      "cell_type": "code",
      "execution_count": null,
      "id": "19eec414",
      "metadata": {
        "scrolled": true,
        "id": "19eec414",
        "outputId": "4b470cd5-6de1-4641-8d98-a9a923169275"
      },
      "outputs": [
        {
          "data": {
            "text/plain": [
              "0        So Drasko just said he was impressed the girls...\n",
              "1        Drasko they didn't cook half a bird you idiot ...\n",
              "2        Hopefully someone cooks Drasko in the next ep ...\n",
              "3        of course you were born in serbia...you're as ...\n",
              "4        These girls are the equivalent of the irritati...\n",
              "                               ...                        \n",
              "16901    credible reports that Iranian troops, amp, fig...\n",
              "16902    BillSpindle: It's all about power at the top, ...\n",
              "16903    Iraq: #ISIS sets off 21 car bombs in Anbar,  a...\n",
              "16904    DEAR STATE DEPA MENT: WHERE IS HILLARY CLINTON...\n",
              "16905                                             Let's go\n",
              "Name: text, Length: 16672, dtype: object"
            ]
          },
          "execution_count": 17,
          "metadata": {},
          "output_type": "execute_result"
        }
      ],
      "source": [
        "a = df[df['text'].str[0:2] == '. ']['text']\n",
        "df['text']\n"
      ]
    },
    {
      "cell_type": "code",
      "execution_count": null,
      "id": "1ed1302b",
      "metadata": {
        "id": "1ed1302b"
      },
      "outputs": [],
      "source": [
        "path = r\"Cleaned_Data/tweet.csv\"\n",
        "df.to_csv(path)"
      ]
    },
    {
      "cell_type": "code",
      "execution_count": null,
      "id": "75b3e28c",
      "metadata": {
        "scrolled": true,
        "id": "75b3e28c",
        "outputId": "59c5c4e7-1b70-4c8a-e2a4-8fa1bab79559"
      },
      "outputs": [
        {
          "name": "stderr",
          "output_type": "stream",
          "text": [
            "C:\\Users\\nabil\\AppData\\Local\\Temp\\ipykernel_33864\\974273162.py:5: FutureWarning: The default value of regex will change from True to False in a future version.\n",
            "  dfff = dfff.str.replace('#\\d+,', '')\n"
          ]
        },
        {
          "data": {
            "text/plain": [
              "40         momma said no pussy cats inside my doghouse.\n",
              "41    most hated but the hoes favorite,  MW #SevenOn...\n",
              "42    nice girls bad, make me get naughty. Bad yello...\n",
              "43          pimps up pimps up hoes down,  Future voice.\n",
              "44          post a picture of that pussy get 200 likes.\n",
              "45             pussy is a powerful drug, #HappyHumpDay.\n",
              "Name: text, dtype: object"
            ]
          },
          "execution_count": 19,
          "metadata": {},
          "output_type": "execute_result"
        }
      ],
      "source": [
        "# sentence = \"you can masturbate anytime bitch lol, #8220,  I just want some damn alone time. Fucccckkkkkk, Lol #8221\"\n",
        "# sentence.str.replace('', '')\n",
        "dfff = df2['text'][40:46]\n",
        "# dfff = dfff.str[-1:].replace('#\\d+ ', '')\n",
        "dfff = dfff.str.replace('#\\d+,', '')\n",
        "# dfff[-1:] = dfff.apply(lambda x: x.replace('#', '') if x[-1:] =='#' else x)\n",
        "dfff = dfff+ \".\"\n",
        "# dfff= dfff(comments = apply(yourData, 1, function(x) paste0(as.character(x), '.')))\n",
        "dfff"
      ]
    },
    {
      "cell_type": "code",
      "execution_count": null,
      "id": "65f0d3ad",
      "metadata": {
        "id": "65f0d3ad"
      },
      "outputs": [],
      "source": []
    }
  ],
  "metadata": {
    "kernelspec": {
      "display_name": "Python 3 (ipykernel)",
      "language": "python",
      "name": "python3"
    },
    "language_info": {
      "codemirror_mode": {
        "name": "ipython",
        "version": 3
      },
      "file_extension": ".py",
      "mimetype": "text/x-python",
      "name": "python",
      "nbconvert_exporter": "python",
      "pygments_lexer": "ipython3",
      "version": "3.9.13"
    },
    "colab": {
      "provenance": [],
      "include_colab_link": true
    }
  },
  "nbformat": 4,
  "nbformat_minor": 5
}
